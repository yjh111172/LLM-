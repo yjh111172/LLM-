{
 "cells": [
  {
   "cell_type": "markdown",
   "metadata": {},
   "source": [
    "# 펑션 콜링 적용하기\n",
    "타임존을 기반으로 현재 시간을 반환하는 실습 진행\n",
    "- 타임존이란 ? 전 세계적으로 시간대가 다르기 때문에, 특정 지역의 시간을 정확히 계산하기 위해서는 타임존 설정 필요"
   ],
   "id": "89ed04667a6b584a"
  },
  {
   "cell_type": "markdown",
   "metadata": {},
   "source": [
    "## 1. 필요 라이브러리 불러오기\n",
    "`datetime`과 `pytz` 라이브러리를 사용하여 타임존을 설정하고 현재 시간을 가져올 수 있음"
   ],
   "id": "466f348d505fde9f"
  },
  {
   "cell_type": "code",
   "metadata": {
    "ExecuteTime": {
     "end_time": "2025-10-27T13:15:00.349536Z",
     "start_time": "2025-10-27T13:15:00.344448Z"
    }
   },
   "source": [
    "from datetime import datetime\n",
    "import pytz"
   ],
   "id": "fce1d6fcd3ff6b53",
   "outputs": [],
   "execution_count": 1
  },
  {
   "cell_type": "markdown",
   "metadata": {},
   "source": [
    "## 2. GPT에서 사용할 함수 정의하기\n",
    "타임존 기반 현재 시간을 반환하는 함수 정의"
   ],
   "id": "d30a81879677d74f"
  },
  {
   "cell_type": "markdown",
   "metadata": {},
   "source": [
    "### get_current_time 함수 설명\n",
    "- `timezone` 매개변수: 타임존을 문자열로 입력받음. 기본값은 `Asia/Seoul`\n",
    "- `pytz.timezone(timezone)`: 입력받은 타임존에 맞는 시간대 설정\n",
    "- `datetime.now(tz)`: 설정된 타임존의 현재 시간을 가져옴\n",
    "- `strftime`: 시간을 `YYYY-MM-DD HH:MM:SS` 형식의 문자열로 변환"
   ],
   "id": "5adc4d5862a6aa59"
  },
  {
   "metadata": {
    "ExecuteTime": {
     "end_time": "2025-10-27T13:19:07.282376Z",
     "start_time": "2025-10-27T13:19:07.278804Z"
    }
   },
   "cell_type": "code",
   "source": [
    "def get_current_time(timezone: str = 'Asia/Seoul'):\n",
    "    tz = pytz.timezone(timezone) # 타임존 설정\n",
    "    now = datetime.now(tz).strftime(\"%Y-%m-%d %H:%M:%S\") # 설정한 타임존의 현재 시간을 다음 시간 포맷과 같이 반환 ex) 2025-10-27 20:00:00\n",
    "    now_timezone = f'{now} {timezone}'\n",
    "    print(now_timezone)\n",
    "    return now_timezone"
   ],
   "id": "a4680cd0bee04ac0",
   "outputs": [],
   "execution_count": 2
  },
  {
   "cell_type": "markdown",
   "metadata": {},
   "source": [
    "## 3. 함수 실행해보기\n",
    "아래 코드를 실행하여 `America/New_York` 타임존의 현재 시간 확인"
   ],
   "id": "47c6a84dc0cbf100"
  },
  {
   "cell_type": "code",
   "metadata": {
    "ExecuteTime": {
     "end_time": "2025-10-27T13:19:25.128607Z",
     "start_time": "2025-10-27T13:19:25.105566Z"
    }
   },
   "source": [
    "get_current_time('America/New_York')"
   ],
   "id": "b878198dcd8c5fc",
   "outputs": [
    {
     "name": "stdout",
     "output_type": "stream",
     "text": [
      "2025-10-27 09:19:25 America/New_York\n"
     ]
    },
    {
     "data": {
      "text/plain": [
       "'2025-10-27 09:19:25 America/New_York'"
      ]
     },
     "execution_count": 3,
     "metadata": {},
     "output_type": "execute_result"
    }
   ],
   "execution_count": 3
  },
  {
   "cell_type": "markdown",
   "metadata": {},
   "source": [
    "## 4. GPT를 위해 사용할 함수 설명 추가하기\n",
    "GPT API 호출 시 펑션 콜링할 도구를 정의해야 함\n",
    "\n",
    "콜링할 함수의 메타데이터를 JSON 형식으로 정의하며, 도구의 이름, 설명, 매개변수 등을 포함하고 있음"
   ],
   "id": "8209841f05d8c2d"
  },
  {
   "cell_type": "markdown",
   "metadata": {},
   "source": [
    "### 도구 추가 설명\n",
    "- `type`: 이 도구가 함수임을 나타냄\n",
    "- `name`: 함수 이름 정의\n",
    "- `description`: 함수의 역할 설명\n",
    "- `parameters`: 함수가 받을 매개변수의 형식과 설명 정의"
   ],
   "id": "eb53368d94ded23f"
  },
  {
   "metadata": {
    "ExecuteTime": {
     "end_time": "2025-10-27T13:20:43.246086Z",
     "start_time": "2025-10-27T13:20:43.243345Z"
    }
   },
   "cell_type": "code",
   "outputs": [],
   "execution_count": 4,
   "source": [
    "tools = [\n",
    "    {\n",
    "        \"type\": \"function\",\n",
    "        \"function\": {\n",
    "            \"name\": \"get_current_time\",\n",
    "            \"description\": \"해당 타임존의 날짜와 시간을 반환합니다.\",\n",
    "            \"parameters\": {\n",
    "                \"type\": \"object\",\n",
    "                \"properties\": {\n",
    "                    'timezone': {\n",
    "                        'type': 'string',\n",
    "                        'description': '현재 날짜와 시간을 반환할 타임존을 입력하세요. (예: Asia/Seoul)',\n",
    "                    },\n",
    "                },\n",
    "                \"required\": ['timezone'],\n",
    "            },\n",
    "        }\n",
    "    },\n",
    "]"
   ],
   "id": "613730758469ab56"
  },
  {
   "cell_type": "markdown",
   "metadata": {},
   "source": [
    "## 5. 코드 실행\n",
    "아래 코드를 실행하여 전체 코드 테스트"
   ],
   "id": "1495d23bf719495f"
  },
  {
   "cell_type": "code",
   "metadata": {
    "ExecuteTime": {
     "end_time": "2025-10-27T13:21:55.148346Z",
     "start_time": "2025-10-27T13:21:55.146177Z"
    }
   },
   "source": [
    "if __name__ == '__main__':\n",
    "    get_current_time('America/New_York')"
   ],
   "id": "c508071811357045",
   "outputs": [
    {
     "name": "stdout",
     "output_type": "stream",
     "text": [
      "2025-10-27 09:21:55 America/New_York\n"
     ]
    }
   ],
   "execution_count": 5
  },
  {
   "metadata": {},
   "cell_type": "markdown",
   "source": [
    "# 6. GPT 실행\n",
    "- GPT 실행을 위해 필요한 라이브러리 불러오기"
   ],
   "id": "623d01cb1639e574"
  },
  {
   "metadata": {
    "ExecuteTime": {
     "end_time": "2025-10-27T13:25:20.525559Z",
     "start_time": "2025-10-27T13:25:19.975209Z"
    }
   },
   "cell_type": "code",
   "source": [
    "from openai import OpenAI\n",
    "from dotenv import load_dotenv\n",
    "import os\n",
    "import json"
   ],
   "id": "ffb3a58e9cee819c",
   "outputs": [],
   "execution_count": 6
  },
  {
   "metadata": {
    "ExecuteTime": {
     "end_time": "2025-10-27T13:25:24.640634Z",
     "start_time": "2025-10-27T13:25:24.591405Z"
    }
   },
   "cell_type": "code",
   "source": [
    "load_dotenv()\n",
    "api_key = os.getenv(\"OPEN_API_KEY\")  # 환경 변수에서 API 키 가져오기\n",
    "\n",
    "client = OpenAI(api_key=api_key)  # 오픈AI 클라이언트의 인스턴스 생성"
   ],
   "id": "5cb752395b44e9f3",
   "outputs": [],
   "execution_count": 7
  },
  {
   "metadata": {},
   "cell_type": "markdown",
   "source": [
    "## GPT에 tools 정보 포함하기\n",
    "- 기존 `get_ai_response` 함수 파라미터에 tools 추가\n",
    "- `tools`에 gpt_functions의 `tools` 대입해주면 위에서 정의한 `get_current_time` 함수를 사용할 수 있음"
   ],
   "id": "793afbcad2651899"
  },
  {
   "metadata": {
    "ExecuteTime": {
     "end_time": "2025-10-27T13:34:49.725184Z",
     "start_time": "2025-10-27T13:34:49.718195Z"
    }
   },
   "cell_type": "code",
   "source": [
    "def get_ai_response(messages, tools=None):\n",
    "    response = client.chat.completions.create(\n",
    "        model=\"gpt-4o\",  # 응답 생성에 사용할 모델 지정\n",
    "        messages=messages,  # 대화 기록을 입력으로 전달\n",
    "        tools=tools,  # 사용 가능한 도구 목록 전달\n",
    "    )\n",
    "    return response  # 생성된 응답 내용 반환"
   ],
   "id": "f40d0120ad92f5dc",
   "outputs": [],
   "execution_count": 10
  },
  {
   "metadata": {},
   "cell_type": "markdown",
   "source": [
    "## get_ai_response 함수 실행 준비하기\n",
    "아래 코드는 사용자 입력을 받아 GPT와 대화를 진행하는 내용\n",
    "\n",
    "- `input`: 사용자로부터 입력을 받음\n",
    "- `exit`: 사용자가 \"exit\"을 입력하면 대화를 종료\n",
    "- `messages`: 대화 맥락을 유지할 수 있도록 계속 append 시켜줌, 사용자와 GPT의 메시지를 저장함"
   ],
   "id": "5a3405f934bceeaf"
  },
  {
   "metadata": {},
   "cell_type": "markdown",
   "source": [
    "### `tool_calls` 처리\n",
    "\n",
    "GPT가 도구를 호출해야 할 때 `tool_calls`가 포함됨\n",
    "\n",
    "- `tool_calls`?\n",
    "  - GPT가 특정 작업을 수행하기 위해 도구를 호출해야 한다고 판단하면 응답에 `tool_calls`가 포함됨\n",
    "\n",
    "  - ex) 사용자가 \"현재 시간을 알려줘\"라고 요청하면 GPT는 `get_current_time` 함수를 호출해야 한다고 판단할 수 있음\n",
    "\n",
    "- `tool_calls` 처리 과정\n",
    "  - `tool_calls`가 있는지 확인\n",
    "\n",
    "  - 호출해야 할 함수 이름과 매개변수 추출\n",
    "\n",
    "  - 해당 함수를 실행하고 결과를 대화 기록에 추가"
   ],
   "id": "d8f4759c72392c50"
  },
  {
   "metadata": {},
   "cell_type": "markdown",
   "source": [
    "- 다음 셀에서 실행한 질문들\n",
    "  - 1) 안녕하세요\n",
    "  - 2) 신기한 문장을 생성해보세요\n",
    "  - 3) 현재 서울의 시간은 몇시인가요?\n",
    "  - 4) 현재 태국 방콕의 시간은 몇시인가요?\n",
    "  - 5) 아름다운 문장을 생성해보세요\n",
    "  - 6) exit"
   ],
   "id": "de188dbe04a0be56"
  },
  {
   "metadata": {
    "ExecuteTime": {
     "end_time": "2025-10-27T13:40:33.266866Z",
     "start_time": "2025-10-27T13:39:23.567755Z"
    }
   },
   "cell_type": "code",
   "source": [
    "messages = [\n",
    "    {\"role\": \"system\", \"content\": \"너는 사용자를 도와주는 상담사야.\"},  # 초기 시스템 메시지\n",
    "]\n",
    "\n",
    "while True:\n",
    "    user_input = input(\"사용자\\t: \")  # 사용자 입력 받기\n",
    "\n",
    "    if user_input == \"exit\":  # 사용자가 대화를 종료하려는지 확인\n",
    "        break\n",
    "\n",
    "    messages.append({\"role\": \"user\", \"content\": user_input})  # 사용자 메시지 대화 기록에 추가\n",
    "\n",
    "    ai_response = get_ai_response(messages, tools=tools)\n",
    "    ai_message = ai_response.choices[0].message\n",
    "    print(ai_message)  # gpt에서 반환되는 값을 파악하기 위해 임시로 추가\n",
    "\n",
    "    tool_calls = ai_message.tool_calls  # AI 응답에 포함된 tool_calls를 가져옴\n",
    "\n",
    "    if tool_calls:  # tool_calls가 있는 경우\n",
    "        for tool_call in tool_calls:\n",
    "            tool_name = tool_call.function.name # 실행해야한다고 판단한 함수명 받기\n",
    "            tool_call_id = tool_call.id         # tool_call 아이디 받기\n",
    "            arguments = json.loads(tool_call.function.arguments) # 문자열을 딕셔너리로 변환\n",
    "\n",
    "            if tool_name == \"get_current_time\":  # 만약 tool_name이 \"get_current_time\"이라면\n",
    "                messages.append({\n",
    "                    \"role\": \"function\",  # role을 \"function\"으로 설정\n",
    "                    \"tool_call_id\": tool_call_id,\n",
    "                    \"name\": tool_name,\n",
    "                    \"content\": get_current_time(timezone=arguments['timezone']),  # 타임존 추가\n",
    "                })\n",
    "\n",
    "        messages.append({\"role\": \"system\", \"content\": \"이제 주어진 결과를 바탕으로 답변할 차례다.\"})  # 함수 실행 완료 메시지 추가\n",
    "        ai_response = get_ai_response(messages, tools=tools) # 다시 GPT 응답 받기\n",
    "        ai_message = ai_response.choices[0].message\n",
    "\n",
    "    messages.append(ai_message)  # AI 응답을 대화 기록에 추가하기\n",
    "\n",
    "    print(\"AI\\t: \" + ai_message.content)  # AI 응답 출력"
   ],
   "id": "4fd73e280c1bb418",
   "outputs": [
    {
     "name": "stdout",
     "output_type": "stream",
     "text": [
      "ChatCompletionMessage(content='안녕하세요! 어떻게 도와드릴까요?', refusal=None, role='assistant', audio=None, function_call=None, tool_calls=None, annotations=[])\n",
      "AI\t: 안녕하세요! 어떻게 도와드릴까요?\n",
      "ChatCompletionMessage(content='물 위를 걷는 고래가 반짝이는 별들을 따라 춤을 추며 하늘로 날아올랐다.', refusal=None, role='assistant', audio=None, function_call=None, tool_calls=None, annotations=[])\n",
      "AI\t: 물 위를 걷는 고래가 반짝이는 별들을 따라 춤을 추며 하늘로 날아올랐다.\n",
      "ChatCompletionMessage(content=None, refusal=None, role='assistant', audio=None, function_call=None, tool_calls=[ChatCompletionMessageToolCall(id='call_bZDPxW0vpFA2UOYHghXDKJRF', function=Function(arguments='{\"timezone\":\"Asia/Seoul\"}', name='get_current_time'), type='function')], annotations=[])\n",
      "2025-10-27 22:40:05 Asia/Seoul\n",
      "AI\t: 현재 서울의 시간은 2025년 10월 27일 월요일, 오후 10시 40분입니다.\n",
      "ChatCompletionMessage(content=None, refusal=None, role='assistant', audio=None, function_call=None, tool_calls=[ChatCompletionMessageToolCall(id='call_3PvVl5YNerkp9jkR9Hf5MyHj', function=Function(arguments='{\"timezone\":\"Asia/Bangkok\"}', name='get_current_time'), type='function')], annotations=[])\n",
      "2025-10-27 20:40:14 Asia/Bangkok\n",
      "AI\t: 현재 태국 방콕의 시간은 2025년 10월 27일 월요일, 오후 8시 40분입니다.\n",
      "ChatCompletionMessage(content='저녁 노을의 황금빛이 바다 위로 물들 때, 잔잔한 파도는 마치 시간의 파동처럼 어제를 삼키고 오늘을 맞이한다.', refusal=None, role='assistant', audio=None, function_call=None, tool_calls=None, annotations=[])\n",
      "AI\t: 저녁 노을의 황금빛이 바다 위로 물들 때, 잔잔한 파도는 마치 시간의 파동처럼 어제를 삼키고 오늘을 맞이한다.\n"
     ]
    }
   ],
   "execution_count": 11
  }
 ],
 "metadata": {
  "kernelspec": {
   "name": "python3",
   "language": "python",
   "display_name": "Python 3 (ipykernel)"
  }
 }
}
