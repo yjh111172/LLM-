{
 "cells": [
  {
   "metadata": {},
   "cell_type": "markdown",
   "source": [
    "# GPT와 미국 주식 이야기하기\n",
    "\n",
    "- 요새 마이크로소프트 주식 얼마야?\n",
    "- 테슬라 주식을 지금 더 사야할까 팔아야할까?\n",
    "\n",
    "등 위와 같은 대화를 하기 위해서는 최신 주식 정보를 GPT가 알고 있어야 함\n",
    "\n",
    "`yfinance` 라이브러리를 통해 미국 주식 정보를 가져와서 GPT와 대화할 때 사용하는 실습 진행"
   ]
  },
  {
   "metadata": {},
   "cell_type": "markdown",
   "source": [
    "## yfinance 라이브러리 설치\n",
    "- 실제 자신의 개발환경에서 실습하고 싶은 사람은 가상 환경 실행 후 직접 설치"
   ]
  },
  {
   "cell_type": "code",
   "metadata": {
    "ExecuteTime": {
     "end_time": "2025-10-27T13:42:55.947669Z",
     "start_time": "2025-10-27T13:42:33.588162Z"
    }
   },
   "source": [
    "%pip install yfinance"
   ],
   "outputs": [
    {
     "name": "stdout",
     "output_type": "stream",
     "text": [
      "Collecting yfinance\r\n",
      "  Downloading yfinance-0.2.66-py2.py3-none-any.whl.metadata (6.0 kB)\r\n",
      "Requirement already satisfied: pandas>=1.3.0 in /Users/euni/SrcRepo/hsmu/llm-programming/llm/lib/python3.12/site-packages (from yfinance) (2.3.1)\r\n",
      "Requirement already satisfied: numpy>=1.16.5 in /Users/euni/SrcRepo/hsmu/llm-programming/llm/lib/python3.12/site-packages (from yfinance) (2.3.2)\r\n",
      "Requirement already satisfied: requests>=2.31 in /Users/euni/SrcRepo/hsmu/llm-programming/llm/lib/python3.12/site-packages (from yfinance) (2.32.5)\r\n",
      "Collecting multitasking>=0.0.7 (from yfinance)\r\n",
      "  Downloading multitasking-0.0.12.tar.gz (19 kB)\r\n",
      "  Installing build dependencies ... \u001B[?25ldone\r\n",
      "\u001B[?25h  Getting requirements to build wheel ... \u001B[?25ldone\r\n",
      "\u001B[?25h  Preparing metadata (pyproject.toml) ... \u001B[?25ldone\r\n",
      "\u001B[?25hRequirement already satisfied: platformdirs>=2.0.0 in /Users/euni/SrcRepo/hsmu/llm-programming/llm/lib/python3.12/site-packages (from yfinance) (4.5.0)\r\n",
      "Requirement already satisfied: pytz>=2022.5 in /Users/euni/SrcRepo/hsmu/llm-programming/llm/lib/python3.12/site-packages (from yfinance) (2025.2)\r\n",
      "Collecting frozendict>=2.3.4 (from yfinance)\r\n",
      "  Downloading frozendict-2.4.6-py312-none-any.whl.metadata (23 kB)\r\n",
      "Collecting peewee>=3.16.2 (from yfinance)\r\n",
      "  Downloading peewee-3.18.2.tar.gz (949 kB)\r\n",
      "\u001B[2K     \u001B[90m━━━━━━━━━━━━━━━━━━━━━━━━━━━━━━━━━━━━━━━\u001B[0m \u001B[32m949.2/949.2 kB\u001B[0m \u001B[31m7.1 MB/s\u001B[0m eta \u001B[36m0:00:00\u001B[0m\r\n",
      "\u001B[?25h  Installing build dependencies ... \u001B[?25ldone\r\n",
      "\u001B[?25h  Getting requirements to build wheel ... \u001B[?25ldone\r\n",
      "\u001B[?25h  Preparing metadata (pyproject.toml) ... \u001B[?25ldone\r\n",
      "\u001B[?25hRequirement already satisfied: beautifulsoup4>=4.11.1 in /Users/euni/SrcRepo/hsmu/llm-programming/llm/lib/python3.12/site-packages (from yfinance) (4.14.2)\r\n",
      "Collecting curl_cffi>=0.7 (from yfinance)\r\n",
      "  Downloading curl_cffi-0.13.0-cp39-abi3-macosx_11_0_arm64.whl.metadata (13 kB)\r\n",
      "Requirement already satisfied: protobuf>=3.19.0 in /Users/euni/SrcRepo/hsmu/llm-programming/llm/lib/python3.12/site-packages (from yfinance) (3.20.3)\r\n",
      "Collecting websockets>=13.0 (from yfinance)\r\n",
      "  Downloading websockets-15.0.1-cp312-cp312-macosx_11_0_arm64.whl.metadata (6.8 kB)\r\n",
      "Requirement already satisfied: soupsieve>1.2 in /Users/euni/SrcRepo/hsmu/llm-programming/llm/lib/python3.12/site-packages (from beautifulsoup4>=4.11.1->yfinance) (2.8)\r\n",
      "Requirement already satisfied: typing-extensions>=4.0.0 in /Users/euni/SrcRepo/hsmu/llm-programming/llm/lib/python3.12/site-packages (from beautifulsoup4>=4.11.1->yfinance) (4.14.1)\r\n",
      "Requirement already satisfied: cffi>=1.12.0 in /Users/euni/SrcRepo/hsmu/llm-programming/llm/lib/python3.12/site-packages (from curl_cffi>=0.7->yfinance) (2.0.0)\r\n",
      "Requirement already satisfied: certifi>=2024.2.2 in /Users/euni/SrcRepo/hsmu/llm-programming/llm/lib/python3.12/site-packages (from curl_cffi>=0.7->yfinance) (2025.8.3)\r\n",
      "Requirement already satisfied: python-dateutil>=2.8.2 in /Users/euni/SrcRepo/hsmu/llm-programming/llm/lib/python3.12/site-packages (from pandas>=1.3.0->yfinance) (2.9.0.post0)\r\n",
      "Requirement already satisfied: tzdata>=2022.7 in /Users/euni/SrcRepo/hsmu/llm-programming/llm/lib/python3.12/site-packages (from pandas>=1.3.0->yfinance) (2025.2)\r\n",
      "Requirement already satisfied: charset_normalizer<4,>=2 in /Users/euni/SrcRepo/hsmu/llm-programming/llm/lib/python3.12/site-packages (from requests>=2.31->yfinance) (3.4.3)\r\n",
      "Requirement already satisfied: idna<4,>=2.5 in /Users/euni/SrcRepo/hsmu/llm-programming/llm/lib/python3.12/site-packages (from requests>=2.31->yfinance) (3.10)\r\n",
      "Requirement already satisfied: urllib3<3,>=1.21.1 in /Users/euni/SrcRepo/hsmu/llm-programming/llm/lib/python3.12/site-packages (from requests>=2.31->yfinance) (2.5.0)\r\n",
      "Requirement already satisfied: pycparser in /Users/euni/SrcRepo/hsmu/llm-programming/llm/lib/python3.12/site-packages (from cffi>=1.12.0->curl_cffi>=0.7->yfinance) (2.23)\r\n",
      "Requirement already satisfied: six>=1.5 in /Users/euni/SrcRepo/hsmu/llm-programming/llm/lib/python3.12/site-packages (from python-dateutil>=2.8.2->pandas>=1.3.0->yfinance) (1.17.0)\r\n",
      "Downloading yfinance-0.2.66-py2.py3-none-any.whl (123 kB)\r\n",
      "Downloading curl_cffi-0.13.0-cp39-abi3-macosx_11_0_arm64.whl (3.0 MB)\r\n",
      "\u001B[2K   \u001B[90m━━━━━━━━━━━━━━━━━━━━━━━━━━━━━━━━━━━━━━━━\u001B[0m \u001B[32m3.0/3.0 MB\u001B[0m \u001B[31m11.2 MB/s\u001B[0m eta \u001B[36m0:00:00\u001B[0ma \u001B[36m0:00:01\u001B[0m\r\n",
      "\u001B[?25hDownloading frozendict-2.4.6-py312-none-any.whl (16 kB)\r\n",
      "Downloading websockets-15.0.1-cp312-cp312-macosx_11_0_arm64.whl (173 kB)\r\n",
      "Building wheels for collected packages: multitasking, peewee\r\n",
      "  Building wheel for multitasking (pyproject.toml) ... \u001B[?25ldone\r\n",
      "\u001B[?25h  Created wheel for multitasking: filename=multitasking-0.0.12-py3-none-any.whl size=15636 sha256=0638c3f1d284c0dc6d2ab74092e5f72f8327c967e95983b864cb4d1486624c31\r\n",
      "  Stored in directory: /Users/euni/Library/Caches/pip/wheels/cc/bd/6f/664d62c99327abeef7d86489e6631cbf45b56fbf7ef1d6ef00\r\n",
      "  Building wheel for peewee (pyproject.toml) ... \u001B[?25ldone\r\n",
      "\u001B[?25h  Created wheel for peewee: filename=peewee-3.18.2-cp312-cp312-macosx_10_13_universal2.whl size=439132 sha256=1a2d9ba9430fe8d56088d48ec83399e142fe76a735456ae981d491fbd4324e54\r\n",
      "  Stored in directory: /Users/euni/Library/Caches/pip/wheels/d1/df/a9/0202b051c65b11c992dd6db9f2babdd2c44ec7d35d511be5d3\r\n",
      "Successfully built multitasking peewee\r\n",
      "Installing collected packages: peewee, multitasking, websockets, frozendict, curl_cffi, yfinance\r\n",
      "Successfully installed curl_cffi-0.13.0 frozendict-2.4.6 multitasking-0.0.12 peewee-3.18.2 websockets-15.0.1 yfinance-0.2.66\r\n",
      "\r\n",
      "\u001B[1m[\u001B[0m\u001B[34;49mnotice\u001B[0m\u001B[1;39;49m]\u001B[0m\u001B[39;49m A new release of pip is available: \u001B[0m\u001B[31;49m24.3.1\u001B[0m\u001B[39;49m -> \u001B[0m\u001B[32;49m25.3\u001B[0m\r\n",
      "\u001B[1m[\u001B[0m\u001B[34;49mnotice\u001B[0m\u001B[1;39;49m]\u001B[0m\u001B[39;49m To update, run: \u001B[0m\u001B[32;49mpip install --upgrade pip\u001B[0m\r\n",
      "Note: you may need to restart the kernel to use updated packages.\n"
     ]
    }
   ],
   "execution_count": 1
  },
  {
   "metadata": {},
   "cell_type": "markdown",
   "source": "- 함수 출력에 사용될 라이브러리 추가 설치"
  },
  {
   "metadata": {
    "ExecuteTime": {
     "end_time": "2025-10-27T14:11:03.438417Z",
     "start_time": "2025-10-27T14:11:02.485907Z"
    }
   },
   "cell_type": "code",
   "source": "%pip install tabulate",
   "outputs": [
    {
     "name": "stdout",
     "output_type": "stream",
     "text": [
      "Collecting tabulate\r\n",
      "  Downloading tabulate-0.9.0-py3-none-any.whl.metadata (34 kB)\r\n",
      "Downloading tabulate-0.9.0-py3-none-any.whl (35 kB)\r\n",
      "Installing collected packages: tabulate\r\n",
      "Successfully installed tabulate-0.9.0\r\n",
      "\r\n",
      "\u001B[1m[\u001B[0m\u001B[34;49mnotice\u001B[0m\u001B[1;39;49m]\u001B[0m\u001B[39;49m A new release of pip is available: \u001B[0m\u001B[31;49m24.3.1\u001B[0m\u001B[39;49m -> \u001B[0m\u001B[32;49m25.3\u001B[0m\r\n",
      "\u001B[1m[\u001B[0m\u001B[34;49mnotice\u001B[0m\u001B[1;39;49m]\u001B[0m\u001B[39;49m To update, run: \u001B[0m\u001B[32;49mpip install --upgrade pip\u001B[0m\r\n",
      "Note: you may need to restart the kernel to use updated packages.\n"
     ]
    }
   ],
   "execution_count": 16
  },
  {
   "metadata": {},
   "cell_type": "markdown",
   "source": [
    "## 라이브러리 불러오기 및 예제\n",
    "\n",
    "- Ticker란?\n",
    "\n",
    "  - `yfinance` 라이브러리에서 특정 주식의 고유 식별자인 티커 심볼을 나타내는 객체\n",
    "  - Ticker 객체를 사용해서 특정 주식의 데이터를 쉽게 가져와 주가, 거래량 등의 금융 정보를 조회하고 분석할 수 있음"
   ]
  },
  {
   "cell_type": "code",
   "metadata": {
    "ExecuteTime": {
     "end_time": "2025-10-27T13:50:41.965185Z",
     "start_time": "2025-10-27T13:50:41.692927Z"
    }
   },
   "source": [
    "import yfinance as yf\n",
    "\n",
    "# 테슬라 (TSLA)에 대한 Ticker 객체 생성\n",
    "tsla = yf.Ticker(\"TSLA\")\n",
    "\n",
    "# Ticker 객체에 대한 정보 출력 (.py에서 실행할 때는 print(tsla.info)로 사용)\n",
    "tsla.info"
   ],
   "outputs": [
    {
     "data": {
      "text/plain": [
       "{'address1': '1 Tesla Road',\n",
       " 'city': 'Austin',\n",
       " 'state': 'TX',\n",
       " 'zip': '78725',\n",
       " 'country': 'United States',\n",
       " 'phone': '512 516 8177',\n",
       " 'website': 'https://www.tesla.com',\n",
       " 'industry': 'Auto Manufacturers',\n",
       " 'industryKey': 'auto-manufacturers',\n",
       " 'industryDisp': 'Auto Manufacturers',\n",
       " 'sector': 'Consumer Cyclical',\n",
       " 'sectorKey': 'consumer-cyclical',\n",
       " 'sectorDisp': 'Consumer Cyclical',\n",
       " 'longBusinessSummary': 'Tesla, Inc. designs, develops, manufactures, leases, and sells electric vehicles, and energy generation and storage systems in the United States, China, and internationally. The company operates in two segments, Automotive; and Energy Generation and Storage. The Automotive segment offers electric vehicles, as well as sells automotive regulatory credits; and non-warranty after-sales vehicle, used vehicles, body shop and parts, supercharging, retail merchandise, and vehicle insurance services. This segment also provides sedans and sport utility vehicles through direct and used vehicle sales, a network of Tesla Superchargers, and in-app upgrades; purchase financing and leasing services; services for electric vehicles through its company-owned service locations and Tesla mobile service technicians; and vehicle limited warranties and extended service plans. The Energy Generation and Storage segment engages in the design, manufacture, installation, sale, and leasing of solar energy generation and energy storage products, and related services to residential, commercial, and industrial customers and utilities through its website, stores, and galleries, as well as through a network of channel partners. This segment also provides services and repairs to its energy product customers, including under warranty; and various financing options to its residential customers. The company was formerly known as Tesla Motors, Inc. and changed its name to Tesla, Inc. in February 2017. Tesla, Inc. was incorporated in 2003 and is headquartered in Austin, Texas.',\n",
       " 'fullTimeEmployees': 125665,\n",
       " 'companyOfficers': [{'maxAge': 1,\n",
       "   'name': 'Mr. Elon R. Musk',\n",
       "   'age': 53,\n",
       "   'title': 'Co-Founder, Technoking of Tesla, CEO & Director',\n",
       "   'yearBorn': 1971,\n",
       "   'fiscalYear': 2024,\n",
       "   'exercisedValue': 0,\n",
       "   'unexercisedValue': 0},\n",
       "  {'maxAge': 1,\n",
       "   'name': 'Mr. Vaibhav  Taneja',\n",
       "   'age': 46,\n",
       "   'title': 'Chief Financial Officer',\n",
       "   'yearBorn': 1978,\n",
       "   'fiscalYear': 2024,\n",
       "   'totalPay': 306846,\n",
       "   'exercisedValue': 9653338,\n",
       "   'unexercisedValue': 347210016},\n",
       "  {'maxAge': 1,\n",
       "   'name': 'Mr. Xiaotong  Zhu',\n",
       "   'age': 44,\n",
       "   'title': 'Senior Vice President of APAC & Global Vehicle Manufacturing',\n",
       "   'yearBorn': 1980,\n",
       "   'fiscalYear': 2024,\n",
       "   'totalPay': 518250,\n",
       "   'exercisedValue': 0,\n",
       "   'unexercisedValue': 697024064},\n",
       "  {'maxAge': 1,\n",
       "   'name': 'Travis  Axelrod',\n",
       "   'title': 'Head of Investor Relations',\n",
       "   'fiscalYear': 2024,\n",
       "   'exercisedValue': 0,\n",
       "   'unexercisedValue': 0},\n",
       "  {'maxAge': 1,\n",
       "   'name': 'Mr. Brandon  Ehrhart',\n",
       "   'title': 'General Counsel & Corporate Secretary',\n",
       "   'fiscalYear': 2024,\n",
       "   'exercisedValue': 0,\n",
       "   'unexercisedValue': 0},\n",
       "  {'maxAge': 1,\n",
       "   'name': 'Mr. Franz  von Holzhausen',\n",
       "   'title': 'Chief Designer',\n",
       "   'fiscalYear': 2024,\n",
       "   'exercisedValue': 0,\n",
       "   'unexercisedValue': 0},\n",
       "  {'maxAge': 1,\n",
       "   'name': 'Mr. John  Walker',\n",
       "   'age': 61,\n",
       "   'title': 'Vice President of Sales - North America',\n",
       "   'yearBorn': 1963,\n",
       "   'fiscalYear': 2024,\n",
       "   'totalPay': 121550,\n",
       "   'exercisedValue': 0,\n",
       "   'unexercisedValue': 0},\n",
       "  {'maxAge': 1,\n",
       "   'name': 'Mr. Rodney D. Westmoreland Jr.',\n",
       "   'title': 'Director of Construction Management',\n",
       "   'fiscalYear': 2024,\n",
       "   'exercisedValue': 0,\n",
       "   'unexercisedValue': 0},\n",
       "  {'maxAge': 1,\n",
       "   'name': 'Mr. Lars  Moravy',\n",
       "   'title': 'Vice President of Vehicle Engineering',\n",
       "   'fiscalYear': 2024,\n",
       "   'exercisedValue': 0,\n",
       "   'unexercisedValue': 0},\n",
       "  {'maxAge': 1,\n",
       "   'name': 'Ashok  Elluswamy',\n",
       "   'title': 'Executive Officer',\n",
       "   'fiscalYear': 2024,\n",
       "   'exercisedValue': 0,\n",
       "   'unexercisedValue': 0}],\n",
       " 'auditRisk': 4,\n",
       " 'boardRisk': 9,\n",
       " 'compensationRisk': 10,\n",
       " 'shareHolderRightsRisk': 9,\n",
       " 'overallRisk': 10,\n",
       " 'governanceEpochDate': 1759276800,\n",
       " 'compensationAsOfEpochDate': 1735603200,\n",
       " 'executiveTeam': [],\n",
       " 'maxAge': 86400,\n",
       " 'priceHint': 2,\n",
       " 'previousClose': 433.72,\n",
       " 'open': 439.89,\n",
       " 'dayLow': 438.69,\n",
       " 'dayHigh': 446.85,\n",
       " 'regularMarketPreviousClose': 433.72,\n",
       " 'regularMarketOpen': 439.89,\n",
       " 'regularMarketDayLow': 438.69,\n",
       " 'regularMarketDayHigh': 446.85,\n",
       " 'payoutRatio': 0.0,\n",
       " 'beta': 2.086,\n",
       " 'trailingPE': 310.26575,\n",
       " 'forwardPE': 136.93826,\n",
       " 'volume': 12899796,\n",
       " 'regularMarketVolume': 12901400,\n",
       " 'averageVolume': 87002942,\n",
       " 'averageVolume10days': 81357480,\n",
       " 'averageDailyVolume10Day': 81357480,\n",
       " 'bid': 442.94,\n",
       " 'ask': 444.48,\n",
       " 'bidSize': 2,\n",
       " 'askSize': 2,\n",
       " 'marketCap': 1475599400960,\n",
       " 'fiftyTwoWeekLow': 214.25,\n",
       " 'fiftyTwoWeekHigh': 488.54,\n",
       " 'allTimeHigh': 488.54,\n",
       " 'allTimeLow': 0.998667,\n",
       " 'priceToSalesTrailing12Months': 15.429755,\n",
       " 'fiftyDayAverage': 397.9982,\n",
       " 'twoHundredDayAverage': 335.7835,\n",
       " 'trailingAnnualDividendRate': 0.0,\n",
       " 'trailingAnnualDividendYield': 0.0,\n",
       " 'currency': 'USD',\n",
       " 'tradeable': False,\n",
       " 'enterpriseValue': 1415361331200,\n",
       " 'profitMargins': 0.05314,\n",
       " 'floatShares': 2809419225,\n",
       " 'sharesOutstanding': 3325819167,\n",
       " 'sharesShort': 72686353,\n",
       " 'sharesShortPriorMonth': 86213226,\n",
       " 'sharesShortPreviousMonthDate': 1757894400,\n",
       " 'dateShortInterest': 1760486400,\n",
       " 'sharesPercentSharesOut': 0.0219,\n",
       " 'heldPercentInsiders': 0.12559,\n",
       " 'heldPercentInstitutions': 0.49375,\n",
       " 'shortRatio': 0.75,\n",
       " 'shortPercentOfFloat': 0.025,\n",
       " 'impliedSharesOutstanding': 3442834754,\n",
       " 'bookValue': 24.058,\n",
       " 'priceToBook': 18.442097,\n",
       " 'lastFiscalYearEnd': 1735603200,\n",
       " 'nextFiscalYearEnd': 1767139200,\n",
       " 'mostRecentQuarter': 1759190400,\n",
       " 'earningsQuarterlyGrowth': -0.368,\n",
       " 'netIncomeToCommon': 5079000064,\n",
       " 'trailingEps': 1.43,\n",
       " 'forwardEps': 3.24,\n",
       " 'lastSplitFactor': '3:1',\n",
       " 'lastSplitDate': 1661385600,\n",
       " 'enterpriseToRevenue': 14.8,\n",
       " 'enterpriseToEbitda': 131.441,\n",
       " '52WeekChange': 0.6522037,\n",
       " 'SandP52WeekChange': 0.16625166,\n",
       " 'quoteType': 'EQUITY',\n",
       " 'currentPrice': 443.6783,\n",
       " 'targetHighPrice': 600.0,\n",
       " 'targetLowPrice': 120.0,\n",
       " 'targetMeanPrice': 390.533,\n",
       " 'targetMedianPrice': 415.0,\n",
       " 'recommendationMean': 2.52174,\n",
       " 'recommendationKey': 'hold',\n",
       " 'numberOfAnalystOpinions': 40,\n",
       " 'totalCash': 41647001600,\n",
       " 'totalCashPerShare': 12.522,\n",
       " 'ebitda': 10768000000,\n",
       " 'totalDebt': 13788000256,\n",
       " 'quickRatio': 1.486,\n",
       " 'currentRatio': 2.066,\n",
       " 'totalRevenue': 95632998400,\n",
       " 'debtToEquity': 17.082,\n",
       " 'revenuePerShare': 29.697,\n",
       " 'returnOnAssets': 0.0235,\n",
       " 'returnOnEquity': 0.06791,\n",
       " 'grossProfits': 16263999488,\n",
       " 'freeCashflow': 2979249920,\n",
       " 'operatingCashflow': 15747999744,\n",
       " 'earningsGrowth': -0.371,\n",
       " 'revenueGrowth': 0.116,\n",
       " 'grossMargins': 0.17006999,\n",
       " 'ebitdaMargins': 0.1126,\n",
       " 'operatingMargins': 0.06628,\n",
       " 'financialCurrency': 'USD',\n",
       " 'symbol': 'TSLA',\n",
       " 'language': 'en-US',\n",
       " 'region': 'US',\n",
       " 'typeDisp': 'Equity',\n",
       " 'quoteSourceName': 'Nasdaq Real Time Price',\n",
       " 'triggerable': True,\n",
       " 'customPriceAlertConfidence': 'HIGH',\n",
       " 'longName': 'Tesla, Inc.',\n",
       " 'shortName': 'Tesla, Inc.',\n",
       " 'fiftyDayAverageChange': 45.681793,\n",
       " 'fiftyDayAverageChangePercent': 0.11477889,\n",
       " 'twoHundredDayAverageChange': 107.896484,\n",
       " 'twoHundredDayAverageChangePercent': 0.32132754,\n",
       " 'sourceInterval': 15,\n",
       " 'exchangeDataDelayedBy': 0,\n",
       " 'averageAnalystRating': '2.5 - Hold',\n",
       " 'cryptoTradeable': False,\n",
       " 'fiftyTwoWeekLowChange': 229.43,\n",
       " 'fiftyTwoWeekLowChangePercent': 1.0708518,\n",
       " 'fiftyTwoWeekRange': '214.25 - 488.54',\n",
       " 'fiftyTwoWeekHighChange': -44.860016,\n",
       " 'fiftyTwoWeekHighChangePercent': -0.09182465,\n",
       " 'fiftyTwoWeekChangePercent': 65.22037,\n",
       " 'earningsTimestamp': 1761163200,\n",
       " 'earningsTimestampStart': 1761163200,\n",
       " 'earningsTimestampEnd': 1761163200,\n",
       " 'earningsCallTimestampStart': 1761168600,\n",
       " 'earningsCallTimestampEnd': 1761168600,\n",
       " 'isEarningsDateEstimate': False,\n",
       " 'epsTrailingTwelveMonths': 1.43,\n",
       " 'epsForward': 3.24,\n",
       " 'epsCurrentYear': 1.64727,\n",
       " 'priceEpsCurrentYear': 269.34262,\n",
       " 'marketState': 'REGULAR',\n",
       " 'hasPrePostMarketData': True,\n",
       " 'firstTradeDateMilliseconds': 1277818200000,\n",
       " 'regularMarketChange': 9.959991,\n",
       " 'regularMarketDayRange': '438.69 - 446.85',\n",
       " 'fullExchangeName': 'NasdaqGS',\n",
       " 'averageDailyVolume3Month': 87002942,\n",
       " 'corporateActions': [],\n",
       " 'regularMarketTime': 1761573041,\n",
       " 'exchange': 'NMS',\n",
       " 'messageBoardId': 'finmb_27444752',\n",
       " 'exchangeTimezoneName': 'America/New_York',\n",
       " 'exchangeTimezoneShortName': 'EDT',\n",
       " 'gmtOffSetMilliseconds': -14400000,\n",
       " 'market': 'us_market',\n",
       " 'esgPopulated': False,\n",
       " 'regularMarketChangePercent': 2.2964106,\n",
       " 'regularMarketPrice': 443.68,\n",
       " 'displayName': 'Tesla',\n",
       " 'trailingPegRatio': 7.717}"
      ]
     },
     "execution_count": 8,
     "metadata": {},
     "output_type": "execute_result"
    }
   ],
   "execution_count": 8
  },
  {
   "cell_type": "code",
   "metadata": {
    "ExecuteTime": {
     "end_time": "2025-10-27T13:51:11.046032Z",
     "start_time": "2025-10-27T13:51:10.890521Z"
    }
   },
   "source": [
    "hist = tsla.history(period=\"5d\") # 5일간의 주가 데이터를 가져옴\n",
    "display(hist) # 데이터 출력"
   ],
   "outputs": [
    {
     "data": {
      "text/plain": [
       "                                 Open        High         Low       Close  \\\n",
       "Date                                                                        \n",
       "2025-10-21 00:00:00-04:00  445.760010  449.299988  442.049988  442.600006   \n",
       "2025-10-22 00:00:00-04:00  443.450012  445.540009  429.000000  438.970001   \n",
       "2025-10-23 00:00:00-04:00  420.000000  449.399994  413.899994  448.980011   \n",
       "2025-10-24 00:00:00-04:00  446.829987  451.679993  430.170013  433.720001   \n",
       "2025-10-27 00:00:00-04:00  439.890015  446.850006  438.690002  444.710114   \n",
       "\n",
       "                              Volume  Dividends  Stock Splits  \n",
       "Date                                                           \n",
       "2025-10-21 00:00:00-04:00   54412200        0.0           0.0  \n",
       "2025-10-22 00:00:00-04:00   84023500        0.0           0.0  \n",
       "2025-10-23 00:00:00-04:00  126709800        0.0           0.0  \n",
       "2025-10-24 00:00:00-04:00   94408400        0.0           0.0  \n",
       "2025-10-27 00:00:00-04:00   13079707        0.0           0.0  "
      ],
      "text/html": [
       "<div>\n",
       "<style scoped>\n",
       "    .dataframe tbody tr th:only-of-type {\n",
       "        vertical-align: middle;\n",
       "    }\n",
       "\n",
       "    .dataframe tbody tr th {\n",
       "        vertical-align: top;\n",
       "    }\n",
       "\n",
       "    .dataframe thead th {\n",
       "        text-align: right;\n",
       "    }\n",
       "</style>\n",
       "<table border=\"1\" class=\"dataframe\">\n",
       "  <thead>\n",
       "    <tr style=\"text-align: right;\">\n",
       "      <th></th>\n",
       "      <th>Open</th>\n",
       "      <th>High</th>\n",
       "      <th>Low</th>\n",
       "      <th>Close</th>\n",
       "      <th>Volume</th>\n",
       "      <th>Dividends</th>\n",
       "      <th>Stock Splits</th>\n",
       "    </tr>\n",
       "    <tr>\n",
       "      <th>Date</th>\n",
       "      <th></th>\n",
       "      <th></th>\n",
       "      <th></th>\n",
       "      <th></th>\n",
       "      <th></th>\n",
       "      <th></th>\n",
       "      <th></th>\n",
       "    </tr>\n",
       "  </thead>\n",
       "  <tbody>\n",
       "    <tr>\n",
       "      <th>2025-10-21 00:00:00-04:00</th>\n",
       "      <td>445.760010</td>\n",
       "      <td>449.299988</td>\n",
       "      <td>442.049988</td>\n",
       "      <td>442.600006</td>\n",
       "      <td>54412200</td>\n",
       "      <td>0.0</td>\n",
       "      <td>0.0</td>\n",
       "    </tr>\n",
       "    <tr>\n",
       "      <th>2025-10-22 00:00:00-04:00</th>\n",
       "      <td>443.450012</td>\n",
       "      <td>445.540009</td>\n",
       "      <td>429.000000</td>\n",
       "      <td>438.970001</td>\n",
       "      <td>84023500</td>\n",
       "      <td>0.0</td>\n",
       "      <td>0.0</td>\n",
       "    </tr>\n",
       "    <tr>\n",
       "      <th>2025-10-23 00:00:00-04:00</th>\n",
       "      <td>420.000000</td>\n",
       "      <td>449.399994</td>\n",
       "      <td>413.899994</td>\n",
       "      <td>448.980011</td>\n",
       "      <td>126709800</td>\n",
       "      <td>0.0</td>\n",
       "      <td>0.0</td>\n",
       "    </tr>\n",
       "    <tr>\n",
       "      <th>2025-10-24 00:00:00-04:00</th>\n",
       "      <td>446.829987</td>\n",
       "      <td>451.679993</td>\n",
       "      <td>430.170013</td>\n",
       "      <td>433.720001</td>\n",
       "      <td>94408400</td>\n",
       "      <td>0.0</td>\n",
       "      <td>0.0</td>\n",
       "    </tr>\n",
       "    <tr>\n",
       "      <th>2025-10-27 00:00:00-04:00</th>\n",
       "      <td>439.890015</td>\n",
       "      <td>446.850006</td>\n",
       "      <td>438.690002</td>\n",
       "      <td>444.710114</td>\n",
       "      <td>13079707</td>\n",
       "      <td>0.0</td>\n",
       "      <td>0.0</td>\n",
       "    </tr>\n",
       "  </tbody>\n",
       "</table>\n",
       "</div>"
      ]
     },
     "metadata": {},
     "output_type": "display_data",
     "jetTransient": {
      "display_id": null
     }
    }
   ],
   "execution_count": 9
  },
  {
   "cell_type": "code",
   "metadata": {
    "ExecuteTime": {
     "end_time": "2025-10-27T13:43:31.388981Z",
     "start_time": "2025-10-27T13:43:31.235776Z"
    }
   },
   "source": "tsla.recommendations # 추천 정보 출력",
   "outputs": [
    {
     "data": {
      "text/plain": [
       "  period  strongBuy  buy  hold  sell  strongSell\n",
       "0     0m          5   15    18     5           3\n",
       "1    -1m          5   15    17     6           2\n",
       "2    -2m          5   14    18     7           3\n",
       "3    -3m          5   13    18     7           3"
      ],
      "text/html": [
       "<div>\n",
       "<style scoped>\n",
       "    .dataframe tbody tr th:only-of-type {\n",
       "        vertical-align: middle;\n",
       "    }\n",
       "\n",
       "    .dataframe tbody tr th {\n",
       "        vertical-align: top;\n",
       "    }\n",
       "\n",
       "    .dataframe thead th {\n",
       "        text-align: right;\n",
       "    }\n",
       "</style>\n",
       "<table border=\"1\" class=\"dataframe\">\n",
       "  <thead>\n",
       "    <tr style=\"text-align: right;\">\n",
       "      <th></th>\n",
       "      <th>period</th>\n",
       "      <th>strongBuy</th>\n",
       "      <th>buy</th>\n",
       "      <th>hold</th>\n",
       "      <th>sell</th>\n",
       "      <th>strongSell</th>\n",
       "    </tr>\n",
       "  </thead>\n",
       "  <tbody>\n",
       "    <tr>\n",
       "      <th>0</th>\n",
       "      <td>0m</td>\n",
       "      <td>5</td>\n",
       "      <td>15</td>\n",
       "      <td>18</td>\n",
       "      <td>5</td>\n",
       "      <td>3</td>\n",
       "    </tr>\n",
       "    <tr>\n",
       "      <th>1</th>\n",
       "      <td>-1m</td>\n",
       "      <td>5</td>\n",
       "      <td>15</td>\n",
       "      <td>17</td>\n",
       "      <td>6</td>\n",
       "      <td>2</td>\n",
       "    </tr>\n",
       "    <tr>\n",
       "      <th>2</th>\n",
       "      <td>-2m</td>\n",
       "      <td>5</td>\n",
       "      <td>14</td>\n",
       "      <td>18</td>\n",
       "      <td>7</td>\n",
       "      <td>3</td>\n",
       "    </tr>\n",
       "    <tr>\n",
       "      <th>3</th>\n",
       "      <td>-3m</td>\n",
       "      <td>5</td>\n",
       "      <td>13</td>\n",
       "      <td>18</td>\n",
       "      <td>7</td>\n",
       "      <td>3</td>\n",
       "    </tr>\n",
       "  </tbody>\n",
       "</table>\n",
       "</div>"
      ]
     },
     "execution_count": 5,
     "metadata": {},
     "output_type": "execute_result"
    }
   ],
   "execution_count": 5
  },
  {
   "metadata": {},
   "cell_type": "markdown",
   "source": [
    "## GPT에서 사용할 함수 정의\n",
    "- `get_current_time` : 타임존 기반 현재 시간 반환\n",
    "- `get_yf_stock_info` : 종목 정보 반환\n",
    "- `get_yf_stock_history` : 주가 정보 반환\n",
    "- `get_yf_stock_recommendations` : 추천 정보 반환"
   ]
  },
  {
   "metadata": {},
   "cell_type": "markdown",
   "source": "### 함수 정의에 필요한 라이브러리 불러오기"
  },
  {
   "cell_type": "code",
   "metadata": {
    "ExecuteTime": {
     "end_time": "2025-10-27T14:06:36.438218Z",
     "start_time": "2025-10-27T14:06:36.430278Z"
    }
   },
   "source": [
    "from datetime import datetime\n",
    "import pytz\n",
    "import yfinance as yf\n",
    "import tabulate"
   ],
   "outputs": [],
   "execution_count": 10
  },
  {
   "metadata": {},
   "cell_type": "markdown",
   "source": "- 타임존 기반 현재 시간을 반환하는 함수 정의"
  },
  {
   "metadata": {
    "ExecuteTime": {
     "end_time": "2025-10-27T14:06:38.459068Z",
     "start_time": "2025-10-27T14:06:38.455861Z"
    }
   },
   "cell_type": "code",
   "source": [
    "def get_current_time(timezone: str = 'Asia/Seoul'):\n",
    "    tz = pytz.timezone(timezone) # 타임존 설정\n",
    "    now = datetime.now(tz).strftime(\"%Y-%m-%d %H:%M:%S\")\n",
    "    now_timezone = f'{now} {timezone}'\n",
    "    print(now_timezone)\n",
    "    return now_timezone"
   ],
   "outputs": [],
   "execution_count": 11
  },
  {
   "metadata": {},
   "cell_type": "markdown",
   "source": "- 주식 정보 관련 함수 정의"
  },
  {
   "metadata": {
    "ExecuteTime": {
     "end_time": "2025-10-27T14:06:40.120964Z",
     "start_time": "2025-10-27T14:06:40.118001Z"
    }
   },
   "cell_type": "code",
   "source": [
    "def get_yf_stock_info(ticker: str):\n",
    "    stock = yf.Ticker(ticker)\n",
    "    info = stock.info\n",
    "    print(info)\n",
    "    return str(info)\n",
    "\n",
    "def get_yf_stock_history(ticker: str, period: str):\n",
    "    stock = yf.Ticker(ticker)\n",
    "    history = stock.history(period=period)\n",
    "    history_md = history.to_markdown() # 데이터프레임을 마크다운 형식으로 변환\n",
    "    print(history_md)\n",
    "    return history_md\n",
    "\n",
    "def get_yf_stock_recommendations(ticker: str):\n",
    "    stock = yf.Ticker(ticker)\n",
    "    recommendations = stock.recommendations\n",
    "    recommendations_md = recommendations.to_markdown() # 데이터프레임을 마크다운 형식으로 변환\n",
    "    print(recommendations_md)\n",
    "    return recommendations_md"
   ],
   "outputs": [],
   "execution_count": 12
  },
  {
   "metadata": {},
   "cell_type": "markdown",
   "source": [
    "##  GPT를 위해 사용할 함수 설명 추가하기\n",
    "\n",
    "- GPT API 호출 시 펑션 콜링할 도구를 정의해야 함\n",
    "\n",
    "- 콜링할 함수의 메타데이터를 JSON 형식으로 정의하며, 도구의 이름, 설명, 매개변수 등을 포함하고 있음"
   ]
  },
  {
   "metadata": {
    "ExecuteTime": {
     "end_time": "2025-10-27T14:06:43.233063Z",
     "start_time": "2025-10-27T14:06:43.228158Z"
    }
   },
   "cell_type": "code",
   "source": [
    "tools = [\n",
    "    {\n",
    "        \"type\": \"function\",\n",
    "        \"function\": {\n",
    "            \"name\": \"get_current_time\",\n",
    "            \"description\": \"해당 타임존의 날짜와 시간을 반환합니다.\",\n",
    "            \"parameters\": {\n",
    "                \"type\": \"object\",\n",
    "                \"properties\": {\n",
    "                    'timezone': {\n",
    "                        'type': 'string',\n",
    "                        'description': '현재 날짜와 시간을 반환할 타임존을 입력하세요. (예: Asia/Seoul)',\n",
    "                    },\n",
    "                },\n",
    "                \"required\": ['timezone'],\n",
    "            },\n",
    "        }\n",
    "    },\n",
    "    {\n",
    "        \"type\": \"function\",\n",
    "        \"function\": {\n",
    "            \"name\": \"get_yf_stock_info\",\n",
    "            \"description\": \"해당 종목의 Yahoo Finance 정보를 반환합니다.\",\n",
    "            \"parameters\": {\n",
    "                \"type\": \"object\",\n",
    "                \"properties\": {\n",
    "                    'ticker': {\n",
    "                        'type': 'string',\n",
    "                        'description': 'Yahoo Finance 정보를 반환할 종목의 티커를 입력하세요. (예: AAPL)',\n",
    "                    },\n",
    "                },\n",
    "                \"required\": ['ticker'],\n",
    "            },\n",
    "        }\n",
    "    },\n",
    "    {\n",
    "        \"type\": \"function\",\n",
    "        \"function\": {\n",
    "            \"name\": \"get_yf_stock_history\",\n",
    "            \"description\": \"해당 종목의 Yahoo Finance 주가 정보를 반환합니다.\",\n",
    "            \"parameters\": {\n",
    "                \"type\": \"object\",\n",
    "                \"properties\": {\n",
    "                    'ticker': {\n",
    "                        'type': 'string',\n",
    "                        'description': 'Yahoo Finance 주가 정보를 반환할 종목의 티커를 입력하세요. (예: AAPL)',\n",
    "                    },\n",
    "                    'period': {\n",
    "                        'type': 'string',\n",
    "                        'description': '주가 정보를 조회할 기간을 입력하세요. (예: 1d, 5d, 1mo, 1y, 5y)',\n",
    "                    },\n",
    "                },\n",
    "                \"required\": ['ticker', 'period'],\n",
    "            },\n",
    "        }\n",
    "    },\n",
    "    {\n",
    "        \"type\": \"function\",\n",
    "        \"function\": {\n",
    "            \"name\": \"get_yf_stock_recommendations\",\n",
    "            \"description\": \"해당 종목의 Yahoo Finance 추천 정보를 반환합니다.\",\n",
    "            \"parameters\": {\n",
    "                \"type\": \"object\",\n",
    "                \"properties\": {\n",
    "                    'ticker': {\n",
    "                        'type': 'string',\n",
    "                        'description': 'Yahoo Finance 추천 정보를 반환할 종목의 티커를 입력하세요. (예: AAPL)',\n",
    "                    },\n",
    "                },\n",
    "                \"required\": ['ticker'],\n",
    "            },\n",
    "        }\n",
    "    },\n",
    "]"
   ],
   "outputs": [],
   "execution_count": 13
  },
  {
   "metadata": {},
   "cell_type": "markdown",
   "source": [
    "## 함수 실행해보기\n",
    "\n",
    "아래 코드를 실행해서, 새로 추가한 함수들 기능 확인하기"
   ]
  },
  {
   "metadata": {
    "ExecuteTime": {
     "end_time": "2025-10-27T14:11:09.532887Z",
     "start_time": "2025-10-27T14:11:09.114790Z"
    }
   },
   "cell_type": "code",
   "source": [
    "get_yf_stock_history('AAPL', '5d') # 애플 주가 정보\n",
    "print('----')\n",
    "get_yf_stock_recommendations('AAPL')"
   ],
   "outputs": [
    {
     "name": "stdout",
     "output_type": "stream",
     "text": [
      "| Date                      |   Open |   High |    Low |   Close |      Volume |   Dividends |   Stock Splits |\n",
      "|:--------------------------|-------:|-------:|-------:|--------:|------------:|------------:|---------------:|\n",
      "| 2025-10-21 00:00:00-04:00 | 261.88 | 265.29 | 261.83 | 262.77  | 4.66959e+07 |           0 |              0 |\n",
      "| 2025-10-22 00:00:00-04:00 | 262.65 | 262.85 | 255.43 | 258.45  | 4.50153e+07 |           0 |              0 |\n",
      "| 2025-10-23 00:00:00-04:00 | 259.94 | 260.62 | 258.01 | 259.58  | 3.27549e+07 |           0 |              0 |\n",
      "| 2025-10-24 00:00:00-04:00 | 261.19 | 264.13 | 259.18 | 262.82  | 3.82217e+07 |           0 |              0 |\n",
      "| 2025-10-27 00:00:00-04:00 | 264.88 | 267.05 | 264.65 | 266.385 | 7.99613e+06 |           0 |              0 |\n",
      "----\n",
      "|    | period   |   strongBuy |   buy |   hold |   sell |   strongSell |\n",
      "|---:|:---------|------------:|------:|-------:|-------:|-------------:|\n",
      "|  0 | 0m       |           5 |    24 |     14 |      2 |            3 |\n",
      "|  1 | -1m      |           5 |    23 |     15 |      1 |            3 |\n",
      "|  2 | -2m      |           5 |    22 |     15 |      1 |            1 |\n",
      "|  3 | -3m      |           5 |    23 |     15 |      1 |            1 |\n"
     ]
    },
    {
     "data": {
      "text/plain": [
       "'|    | period   |   strongBuy |   buy |   hold |   sell |   strongSell |\\n|---:|:---------|------------:|------:|-------:|-------:|-------------:|\\n|  0 | 0m       |           5 |    24 |     14 |      2 |            3 |\\n|  1 | -1m      |           5 |    23 |     15 |      1 |            3 |\\n|  2 | -2m      |           5 |    22 |     15 |      1 |            1 |\\n|  3 | -3m      |           5 |    23 |     15 |      1 |            1 |'"
      ]
     },
     "execution_count": 17,
     "metadata": {},
     "output_type": "execute_result"
    }
   ],
   "execution_count": 17
  },
  {
   "metadata": {},
   "cell_type": "markdown",
   "source": "## GPT 실행"
  },
  {
   "metadata": {},
   "cell_type": "markdown",
   "source": "### GPT 실행을 위해 필요한 라이브러리 불러오기"
  },
  {
   "metadata": {
    "ExecuteTime": {
     "end_time": "2025-10-27T14:11:36.654807Z",
     "start_time": "2025-10-27T14:11:36.652078Z"
    }
   },
   "cell_type": "code",
   "source": [
    "from openai import OpenAI\n",
    "from dotenv import load_dotenv\n",
    "import os\n",
    "import json\n",
    "# import streamlit as st"
   ],
   "outputs": [],
   "execution_count": 19
  },
  {
   "metadata": {},
   "cell_type": "markdown",
   "source": "### 환경 변수에서 API 키 가져오기"
  },
  {
   "metadata": {
    "ExecuteTime": {
     "end_time": "2025-10-27T14:11:38.385675Z",
     "start_time": "2025-10-27T14:11:38.344207Z"
    }
   },
   "cell_type": "code",
   "source": [
    "load_dotenv()\n",
    "api_key = os.getenv(\"OPEN_API_KEY\")\n",
    "client = OpenAI(api_key=api_key)  # OpenAI 클라이언트 인스턴스 생성"
   ],
   "outputs": [],
   "execution_count": 20
  },
  {
   "metadata": {},
   "cell_type": "markdown",
   "source": [
    "### GPT에 tools 정보 포함하기\n",
    "- 기존 `get_ai_response` 함수 파라미터에 tools 추가\n",
    "- tools = tools : 위에서 `tools`로 정의한 함수들을 사용할 수 있음"
   ]
  },
  {
   "metadata": {
    "ExecuteTime": {
     "end_time": "2025-10-27T14:11:42.913024Z",
     "start_time": "2025-10-27T14:11:42.910506Z"
    }
   },
   "cell_type": "code",
   "source": [
    "def get_ai_response(messages, tools=None):\n",
    "    response = client.chat.completions.create(\n",
    "        model=\"gpt-4o\",  # 사용할 모델 지정\n",
    "        messages=messages,  # 대화 기록 전달\n",
    "        tools=tools,  # 사용 가능한 도구 전달\n",
    "    )\n",
    "    return response  # 생성된 응답 반환"
   ],
   "outputs": [],
   "execution_count": 21
  },
  {
   "metadata": {},
   "cell_type": "markdown",
   "source": [
    "### get_ai_response 함수 실행 준비하기\n",
    "아래 코드는 사용자 입력을 받아 GPT와 대화를 진행하는 내용\n",
    "\n",
    "- `input`: 사용자로부터 입력을 받음\n",
    "- `exit`: 사용자가 \"exit\"을 입력하면 대화를 종료\n",
    "- `messages`: 대화 맥락을 유지할 수 있도록 계속 append 시켜줌, 사용자와 GPT의 메시지를 저장함"
   ]
  },
  {
   "metadata": {},
   "cell_type": "markdown",
   "source": [
    "GPT가 도구를 호출해야 할 때 `tool_calls`가 포함됨\n",
    "\n",
    "- `tool_calls`?\n",
    "  - GPT가 특정 작업을 수행하기 위해 도구를 호출해야 한다고 판단하면 응답에 `tool_calls`가 포함됨\n",
    "\n",
    "  - ex) 사용자가 \"현재 시간을 알려줘\"라고 요청하면 GPT는 `get_current_time` 함수를 호출해야 한다고 판단할 수 있음\n",
    "\n",
    "- `tool_calls` 처리 과정\n",
    "  - `tool_calls`가 있는지 확인\n",
    "\n",
    "  - 호출해야 할 함수 이름과 매개변수 추출\n",
    "\n",
    "  - 해당 함수를 실행하고 결과를 대화 기록에 추가"
   ]
  },
  {
   "metadata": {},
   "cell_type": "markdown",
   "source": [
    "- 다음 셀에서 실행한 질문들\n",
    "  - 1) 안녕하세요\n",
    "  - 2) 현재 서울 시간이 몇시인가요?\n",
    "  - 3) 현재 애플의 주가 정보를 알려주세요\n",
    "  - 4) 테슬라를 사야할까요 팔아야할까요?\n",
    "  - 5) 마이크로소프트 1주에 얼마죠?\n",
    "  - 6) exit\n",
    "\n",
    "이외에도 질문들을 바꿔보며 tool_calls가 언제 포함되는지 비교해보고, 다양한 주식 관련 에이전트 답변을 확인해보기"
   ]
  },
  {
   "metadata": {
    "ExecuteTime": {
     "end_time": "2025-10-27T14:13:44.006115Z",
     "start_time": "2025-10-27T14:11:46.267163Z"
    }
   },
   "cell_type": "code",
   "source": [
    "# 초기 메시지 설정\n",
    "messages = [\n",
    "    {\"role\": \"system\", \"content\": \"너는 사용자를 도와주는 상담사야.\"},  # 시스템 메시지\n",
    "]\n",
    "\n",
    "print(\"GPT와 대화를 시작합니다. 'exit'을 입력하면 종료됩니다.\")\n",
    "\n",
    "while True:\n",
    "    # 사용자 입력 받기\n",
    "    user_input = input(\"사용자: \")\n",
    "    if user_input.lower() == \"exit\":  # 'exit' 입력 시 종료\n",
    "        print(\"대화를 종료합니다.\")\n",
    "        break\n",
    "\n",
    "    # 사용자 메시지를 대화 기록에 추가\n",
    "    messages.append({\"role\": \"user\", \"content\": user_input})\n",
    "\n",
    "    # GPT 응답 생성\n",
    "    ai_response = get_ai_response(messages, tools=tools)\n",
    "    ai_message = ai_response.choices[0].message\n",
    "    print(f\"GPT: {ai_message.content}\")  # GPT 응답 출력\n",
    "\n",
    "    # 도구 호출 처리\n",
    "    tool_calls = ai_message.tool_calls  # AI 응답에 포함된 tool_calls 가져오기\n",
    "    if tool_calls:  # tool_calls가 있는 경우\n",
    "        for tool_call in tool_calls:\n",
    "            tool_name = tool_call.function.name  # 호출할 함수 이름\n",
    "            tool_call_id = tool_call.id  # tool_call ID\n",
    "            arguments = json.loads(tool_call.function.arguments)  # 매개변수 파싱\n",
    "\n",
    "            # 호출할 함수 실행\n",
    "            if tool_name == \"get_current_time\":\n",
    "                func_result = get_current_time(timezone=arguments[\"timezone\"])\n",
    "            elif tool_name == \"get_yf_stock_info\":\n",
    "                func_result = get_yf_stock_info(ticker=arguments[\"ticker\"])\n",
    "            elif tool_name == \"get_yf_stock_history\":\n",
    "                func_result = get_yf_stock_history(\n",
    "                    ticker=arguments[\"ticker\"], period=arguments[\"period\"]\n",
    "                )\n",
    "            elif tool_name == \"get_yf_stock_recommendations\":\n",
    "                func_result = get_yf_stock_recommendations(ticker=arguments[\"ticker\"])\n",
    "            else:\n",
    "                func_result = \"알 수 없는 도구 호출입니다.\"\n",
    "\n",
    "            # 함수 실행 결과를 대화 기록에 추가\n",
    "            messages.append(\n",
    "                {\n",
    "                    \"role\": \"function\",\n",
    "                    \"tool_call_id\": tool_call_id,\n",
    "                    \"name\": tool_name,\n",
    "                    \"content\": func_result,\n",
    "                }\n",
    "            )\n",
    "\n",
    "        # 도구 호출 결과를 바탕으로 GPT 응답 생성\n",
    "        messages.append(\n",
    "            {\"role\": \"system\", \"content\": \"이제 주어진 결과를 바탕으로 답변할 차례다.\"}\n",
    "        )\n",
    "        ai_response = get_ai_response(messages, tools=tools)\n",
    "        ai_message = ai_response.choices[0].message\n",
    "\n",
    "        # 최종 GPT 응답 출력\n",
    "        print(f\"GPT: {ai_message.content}\")\n",
    "        messages.append({\"role\": \"assistant\", \"content\": ai_message.content})"
   ],
   "outputs": [
    {
     "name": "stdout",
     "output_type": "stream",
     "text": [
      "GPT와 대화를 시작합니다. 'exit'을 입력하면 종료됩니다.\n",
      "GPT: 안녕하세요! 무엇을 도와드릴까요?\n",
      "GPT: 어느 지역의 시간을 알고 싶으신가요? 예를 들어, 서울의 시간을 알고 싶으시면 \"Asia/Seoul\"이라고 말씀해 주세요.\n",
      "GPT: None\n",
      "2025-10-27 23:12:14 Asia/Seoul\n",
      "GPT: 지금 서울의 시간은 2025년 10월 27일, 오후 11시 12분입니다.\n",
      "GPT: None\n",
      "{'address1': 'One Apple Park Way', 'city': 'Cupertino', 'state': 'CA', 'zip': '95014', 'country': 'United States', 'phone': '(408) 996-1010', 'website': 'https://www.apple.com', 'industry': 'Consumer Electronics', 'industryKey': 'consumer-electronics', 'industryDisp': 'Consumer Electronics', 'sector': 'Technology', 'sectorKey': 'technology', 'sectorDisp': 'Technology', 'longBusinessSummary': 'Apple Inc. designs, manufactures, and markets smartphones, personal computers, tablets, wearables, and accessories worldwide. The company offers iPhone, a line of smartphones; Mac, a line of personal computers; iPad, a line of multi-purpose tablets; and wearables, home, and accessories comprising AirPods, Apple TV, Apple Watch, Beats products, and HomePod. It also provides AppleCare support and cloud services; and operates various platforms, including the App Store that allow customers to discover and download applications and digital content, such as books, music, video, games, and podcasts, as well as advertising services include third-party licensing arrangements and its own advertising platforms. In addition, the company offers various subscription-based services, such as Apple Arcade, a game subscription service; Apple Fitness+, a personalized fitness service; Apple Music, which offers users a curated listening experience with on-demand radio stations; Apple News+, a subscription news and magazine service; Apple TV+, which offers exclusive original content; Apple Card, a co-branded credit card; and Apple Pay, a cashless payment service, as well as licenses its intellectual property. The company serves consumers, and small and mid-sized businesses; and the education, enterprise, and government markets. It distributes third-party applications for its products through the App Store. The company also sells its products through its retail and online stores, and direct sales force; and third-party cellular network carriers, wholesalers, retailers, and resellers. Apple Inc. was founded in 1976 and is headquartered in Cupertino, California.', 'fullTimeEmployees': 150000, 'companyOfficers': [{'maxAge': 1, 'name': 'Mr. Timothy D. Cook', 'age': 63, 'title': 'CEO & Director', 'yearBorn': 1961, 'fiscalYear': 2024, 'totalPay': 16520856, 'exercisedValue': 0, 'unexercisedValue': 0}, {'maxAge': 1, 'name': 'Ms. Katherine L. Adams', 'age': 60, 'title': 'Senior VP & General Counsel', 'yearBorn': 1964, 'fiscalYear': 2024, 'totalPay': 5022182, 'exercisedValue': 0, 'unexercisedValue': 0}, {'maxAge': 1, 'name': \"Ms. Deirdre  O'Brien\", 'age': 57, 'title': 'Senior Vice President of Retail & People', 'yearBorn': 1967, 'fiscalYear': 2024, 'totalPay': 5022182, 'exercisedValue': 0, 'unexercisedValue': 0}, {'maxAge': 1, 'name': 'Mr. Jeffrey E. Williams', 'age': 60, 'title': 'Senior Vice President of Design, Watch, & Health', 'yearBorn': 1964, 'fiscalYear': 2024, 'totalPay': 5020737, 'exercisedValue': 0, 'unexercisedValue': 0}, {'maxAge': 1, 'name': 'Mr. Kevan  Parekh', 'age': 52, 'title': 'Senior VP & CFO', 'yearBorn': 1972, 'fiscalYear': 2024, 'exercisedValue': 0, 'unexercisedValue': 0}, {'maxAge': 1, 'name': 'Mr. Sabih  Khan', 'title': 'Chief Operating Officer', 'fiscalYear': 2024, 'exercisedValue': 0, 'unexercisedValue': 0}, {'maxAge': 1, 'name': 'Mr. Chris  Kondo', 'title': 'Senior Director of Corporate Accounting', 'fiscalYear': 2024, 'exercisedValue': 0, 'unexercisedValue': 0}, {'maxAge': 1, 'name': 'Suhasini  Chandramouli', 'title': 'Director of Investor Relations', 'fiscalYear': 2024, 'exercisedValue': 0, 'unexercisedValue': 0}, {'maxAge': 1, 'name': 'Ms. Kristin Huguet Quayle', 'title': 'Vice President of Worldwide Communications', 'fiscalYear': 2024, 'exercisedValue': 0, 'unexercisedValue': 0}, {'maxAge': 1, 'name': 'Mr. Greg  Joswiak', 'title': 'Senior Vice President of Worldwide Marketing', 'fiscalYear': 2024, 'exercisedValue': 0, 'unexercisedValue': 0}], 'auditRisk': 7, 'boardRisk': 1, 'compensationRisk': 3, 'shareHolderRightsRisk': 1, 'overallRisk': 1, 'governanceEpochDate': 1759276800, 'compensationAsOfEpochDate': 1735603200, 'irWebsite': 'http://investor.apple.com/', 'executiveTeam': [], 'maxAge': 86400, 'priceHint': 2, 'previousClose': 262.82, 'open': 264.88, 'dayLow': 264.6501, 'dayHigh': 267.05, 'regularMarketPreviousClose': 262.82, 'regularMarketOpen': 264.88, 'regularMarketDayLow': 264.6501, 'regularMarketDayHigh': 267.05, 'dividendRate': 1.04, 'dividendYield': 0.4, 'exDividendDate': 1754870400, 'payoutRatio': 0.1533, 'fiveYearAvgDividendYield': 0.54, 'beta': 1.094, 'trailingPE': 40.38788, 'forwardPE': 32.077015, 'volume': 8097259, 'regularMarketVolume': 8097259, 'averageVolume': 54728796, 'averageVolume10days': 44960930, 'averageDailyVolume10Day': 44960930, 'bid': 265.03, 'ask': 267.97, 'bidSize': 2, 'askSize': 4, 'marketCap': 3955854147584, 'fiftyTwoWeekLow': 169.21, 'fiftyTwoWeekHigh': 267.05, 'allTimeHigh': 265.29, 'allTimeLow': 0.049107, 'priceToSalesTrailing12Months': 9.680891, 'fiftyDayAverage': 244.1418, 'twoHundredDayAverage': 222.4811, 'trailingAnnualDividendRate': 1.01, 'trailingAnnualDividendYield': 0.0038429343, 'currency': 'USD', 'tradeable': False, 'enterpriseValue': 3946677272576, 'profitMargins': 0.24295999, 'floatShares': 14814270914, 'sharesOutstanding': 14840390000, 'sharesShort': 109135657, 'sharesShortPriorMonth': 118199377, 'sharesShortPreviousMonthDate': 1757894400, 'dateShortInterest': 1760486400, 'sharesPercentSharesOut': 0.0074, 'heldPercentInsiders': 0.0197, 'heldPercentInstitutions': 0.63576, 'shortRatio': 2.08, 'shortPercentOfFloat': 0.0074, 'impliedSharesOutstanding': 14852540974, 'bookValue': 4.431, 'priceToBook': 60.157974, 'lastFiscalYearEnd': 1727481600, 'nextFiscalYearEnd': 1759017600, 'mostRecentQuarter': 1751068800, 'earningsQuarterlyGrowth': 0.093, 'netIncomeToCommon': 99280003072, 'trailingEps': 6.6, 'forwardEps': 8.31, 'lastSplitFactor': '4:1', 'lastSplitDate': 1598832000, 'enterpriseToRevenue': 9.658, 'enterpriseToEbitda': 27.853, '52WeekChange': 0.12604976, 'SandP52WeekChange': 0.16625166, 'lastDividendValue': 0.26, 'lastDividendDate': 1754870400, 'quoteType': 'EQUITY', 'currentPrice': 266.56, 'targetHighPrice': 315.0, 'targetLowPrice': 180.0, 'targetMeanPrice': 253.56757, 'targetMedianPrice': 260.0, 'recommendationMean': 2.04167, 'recommendationKey': 'buy', 'numberOfAnalystOpinions': 41, 'totalCash': 55372001280, 'totalCashPerShare': 3.731, 'ebitda': 141696008192, 'totalDebt': 101698002944, 'quickRatio': 0.724, 'currentRatio': 0.868, 'totalRevenue': 408624988160, 'debtToEquity': 154.486, 'revenuePerShare': 27.173, 'returnOnAssets': 0.24545999, 'returnOnEquity': 1.49814, 'grossProfits': 190739005440, 'freeCashflow': 94873747456, 'operatingCashflow': 108564996096, 'earningsGrowth': 0.121, 'revenueGrowth': 0.096, 'grossMargins': 0.46678, 'ebitdaMargins': 0.34675997, 'operatingMargins': 0.29990998, 'financialCurrency': 'USD', 'symbol': 'AAPL', 'language': 'en-US', 'region': 'US', 'typeDisp': 'Equity', 'quoteSourceName': 'Nasdaq Real Time Price', 'triggerable': True, 'customPriceAlertConfidence': 'HIGH', 'shortName': 'Apple Inc.', 'longName': 'Apple Inc.', 'corporateActions': [], 'regularMarketTime': 1761574350, 'exchange': 'NMS', 'messageBoardId': 'finmb_24937', 'exchangeTimezoneName': 'America/New_York', 'exchangeTimezoneShortName': 'EDT', 'gmtOffSetMilliseconds': -14400000, 'market': 'us_market', 'esgPopulated': False, 'regularMarketChangePercent': 1.4230235, 'regularMarketPrice': 266.56, 'cryptoTradeable': False, 'regularMarketChange': 3.7399902, 'regularMarketDayRange': '264.6501 - 267.05', 'fullExchangeName': 'NasdaqGS', 'averageDailyVolume3Month': 54728796, 'fiftyTwoWeekLowChange': 97.34999, 'fiftyTwoWeekLowChangePercent': 0.57532054, 'fiftyTwoWeekRange': '169.21 - 267.05', 'fiftyTwoWeekHighChange': -0.48999023, 'fiftyTwoWeekHighChangePercent': -0.0018348258, 'fiftyTwoWeekChangePercent': 12.604976, 'dividendDate': 1755129600, 'earningsTimestamp': 1761854400, 'earningsTimestampStart': 1761854400, 'earningsTimestampEnd': 1761854400, 'earningsCallTimestampStart': 1761858000, 'earningsCallTimestampEnd': 1761858000, 'isEarningsDateEstimate': False, 'epsTrailingTwelveMonths': 6.6, 'epsForward': 8.31, 'epsCurrentYear': 7.39031, 'priceEpsCurrentYear': 36.06885, 'fiftyDayAverageChange': 22.418198, 'fiftyDayAverageChangePercent': 0.091824494, 'twoHundredDayAverageChange': 44.078903, 'twoHundredDayAverageChangePercent': 0.19812426, 'sourceInterval': 15, 'exchangeDataDelayedBy': 0, 'averageAnalystRating': '2.0 - Buy', 'hasPrePostMarketData': True, 'firstTradeDateMilliseconds': 345479400000, 'marketState': 'REGULAR', 'displayName': 'Apple', 'trailingPegRatio': 2.4662}\n",
      "GPT: 현재 애플(Apple Inc.)의 주가는 $266.56입니다. 최근 주식 시장의 변동에 따라 1.42% 상승한 상태입니다. \n",
      "\n",
      "- 애플의 시가총액은 약 $3.96조입니다.\n",
      "- 최근 거래된 주식은 8,097,259 주입니다.\n",
      "- 애플은 소비자 전자제품을 제공하는 회사로, 주로 아이폰, 맥북, 아이패드 및 다양한 스마트 기기와 서비스를 판매합니다.\n",
      "\n",
      "추가로 궁금한 점이 있으면 말씀해 주세요!\n",
      "GPT: None\n",
      "|    | period   |   strongBuy |   buy |   hold |   sell |   strongSell |\n",
      "|---:|:---------|------------:|------:|-------:|-------:|-------------:|\n",
      "|  0 | 0m       |           5 |    15 |     18 |      5 |            3 |\n",
      "|  1 | -1m      |           5 |    15 |     17 |      6 |            2 |\n",
      "|  2 | -2m      |           5 |    14 |     18 |      7 |            3 |\n",
      "|  3 | -3m      |           5 |    13 |     18 |      7 |            3 |\n",
      "GPT: 현재 테슬라(Tesla)에 대한 주식 추천은 다음과 같습니다:\n",
      "\n",
      "- **강력 매수(Strong Buy):** 5명\n",
      "- **매수(Buy):** 15명\n",
      "- **보유(Hold):** 18명\n",
      "- **매도(Sell):** 5명\n",
      "- **강력 매도(Strong Sell):** 3명\n",
      "\n",
      "이 정보를 기반으로, 대부분의 애널리스트들은 테슬라 주식을 보유하거나 매수하라는 의견을 가지고 있습니다. 그러나 실제 투자 결정을 내릴 때는 본인의 재정 상황, 투자 목표, 그리고 시장에 대한 추가 분석을 고려하시는 것이 좋습니다. 다시 말해, 이러한 추천은 참고용으로 사용하시고, 최종 결정은 신중히 내리시길 권장합니다.\n",
      "GPT: None\n",
      "{'address1': 'One Microsoft Way', 'city': 'Redmond', 'state': 'WA', 'zip': '98052-6399', 'country': 'United States', 'phone': '425 882 8080', 'website': 'https://www.microsoft.com', 'industry': 'Software - Infrastructure', 'industryKey': 'software-infrastructure', 'industryDisp': 'Software - Infrastructure', 'sector': 'Technology', 'sectorKey': 'technology', 'sectorDisp': 'Technology', 'longBusinessSummary': \"Microsoft Corporation develops and supports software, services, devices, and solutions worldwide. The company's Productivity and Business Processes segment offers Microsoft 365 Commercial, Enterprise Mobility + Security, Windows Commercial, Power BI, Exchange, SharePoint, Microsoft Teams, Security and Compliance, and Copilot; Microsoft 365 Commercial products, such as Windows Commercial on-premises and Office licensed services; Microsoft 365 Consumer products and cloud services, such as Microsoft 365 Consumer subscriptions, Office licensed on-premises, and other consumer services; LinkedIn; Dynamics products and cloud services, such as Dynamics 365, cloud-based applications, and on-premises ERP and CRM applications. Its Intelligent Cloud segment provides Server products and cloud services, such as Azure and other cloud services, GitHub, Nuance Healthcare, virtual desktop offerings, and other cloud services; Server products, including SQL and Windows Server, Visual Studio and System Center related Client Access Licenses, and other on-premises offerings; Enterprise and partner services, including Enterprise Support and Nuance professional Services, Industry Solutions, Microsoft Partner Network, and Learning Experience. The company's Personal Computing segment provides Windows and Devices, such as Windows OEM licensing and Devices and Surface and PC accessories; Gaming services and solutions, such as Xbox hardware, content, and services, first- and third-party content Xbox Game Pass, subscriptions, and Cloud Gaming, advertising, and other cloud services; search and news advertising services, such as Bing and Copilot, Microsoft News and Edge, and third-party affiliates. It sells its products through OEMs, distributors, and resellers; and online and retail stores. The company was founded in 1975 and is headquartered in Redmond, Washington.\", 'fullTimeEmployees': 228000, 'companyOfficers': [{'maxAge': 1, 'name': 'Mr. Satya  Nadella', 'age': 57, 'title': 'Chairman & CEO', 'yearBorn': 1967, 'fiscalYear': 2025, 'totalPay': 12251294, 'exercisedValue': 0, 'unexercisedValue': 0}, {'maxAge': 1, 'name': 'Mr. Bradford L. Smith LCA', 'age': 65, 'title': 'President & Vice Chairman', 'yearBorn': 1959, 'fiscalYear': 2025, 'totalPay': 4532750, 'exercisedValue': 0, 'unexercisedValue': 0}, {'maxAge': 1, 'name': 'Ms. Amy E. Hood', 'age': 52, 'title': 'Executive VP & CFO', 'yearBorn': 1972, 'fiscalYear': 2025, 'totalPay': 4444191, 'exercisedValue': 0, 'unexercisedValue': 0}, {'maxAge': 1, 'name': 'Mr. Takeshi  Numoto', 'age': 53, 'title': 'Executive VP & Chief Marketing Officer', 'yearBorn': 1971, 'fiscalYear': 2025, 'totalPay': 2871250, 'exercisedValue': 0, 'unexercisedValue': 0}, {'maxAge': 1, 'name': 'Mr. Judson B. Althoff', 'age': 51, 'title': 'Executive VP & CEO of Commercial Business', 'yearBorn': 1973, 'fiscalYear': 2025, 'totalPay': 4490115, 'exercisedValue': 0, 'unexercisedValue': 0}, {'maxAge': 1, 'name': 'Ms. Carolina  Dybeck Happe', 'age': 52, 'title': 'Executive VP & COO', 'yearBorn': 1972, 'fiscalYear': 2025, 'exercisedValue': 0, 'unexercisedValue': 0}, {'maxAge': 1, 'name': 'Ms. Alice L. Jolla', 'age': 58, 'title': 'Corporate VP & Chief Accounting Officer', 'yearBorn': 1966, 'fiscalYear': 2025, 'exercisedValue': 0, 'unexercisedValue': 0}, {'maxAge': 1, 'name': 'Jonathan  Neilson', 'title': 'Vice President of Investor Relations', 'fiscalYear': 2025, 'exercisedValue': 0, 'unexercisedValue': 0}, {'maxAge': 1, 'name': 'Mr. Jonathan M. Palmer', 'title': 'Corporate Vice President & Chief Legal Officer', 'fiscalYear': 2025, 'exercisedValue': 0, 'unexercisedValue': 0}, {'maxAge': 1, 'name': 'Mr. Frank X. Shaw', 'title': 'Chief Communications Officer', 'fiscalYear': 2025, 'exercisedValue': 0, 'unexercisedValue': 0}], 'auditRisk': 9, 'boardRisk': 5, 'compensationRisk': 4, 'shareHolderRightsRisk': 2, 'overallRisk': 3, 'governanceEpochDate': 1759276800, 'compensationAsOfEpochDate': 1767139200, 'irWebsite': 'http://www.microsoft.com/investor/default.aspx', 'executiveTeam': [], 'maxAge': 86400, 'priceHint': 2, 'previousClose': 523.61, 'open': 531.709, 'dayLow': 529.01, 'dayHigh': 533.7999, 'regularMarketPreviousClose': 523.61, 'regularMarketOpen': 531.709, 'regularMarketDayLow': 529.01, 'regularMarketDayHigh': 533.7999, 'dividendRate': 3.64, 'dividendYield': 0.7, 'exDividendDate': 1763596800, 'payoutRatio': 0.2375, 'fiveYearAvgDividendYield': 0.81, 'beta': 1.023, 'trailingPE': 39.20867, 'forwardPE': 35.694317, 'volume': 4098609, 'regularMarketVolume': 4098609, 'averageVolume': 20255423, 'averageVolume10days': 15784610, 'averageDailyVolume10Day': 15784610, 'bid': 527.03, 'ask': 534.97, 'bidSize': 3, 'askSize': 4, 'marketCap': 3966518427648, 'fiftyTwoWeekLow': 344.79, 'fiftyTwoWeekHigh': 555.45, 'allTimeHigh': 555.45, 'allTimeLow': 0.088542, 'priceToSalesTrailing12Months': 14.079449, 'fiftyDayAverage': 511.7912, 'twoHundredDayAverage': 458.362, 'trailingAnnualDividendRate': 3.32, 'trailingAnnualDividendYield': 0.0063405973, 'currency': 'USD', 'tradeable': False, 'enterpriseValue': 3909699239936, 'profitMargins': 0.36146, 'floatShares': 7422165293, 'sharesOutstanding': 7433087554, 'sharesShort': 52344880, 'sharesShortPriorMonth': 65238937, 'sharesShortPreviousMonthDate': 1757894400, 'dateShortInterest': 1760486400, 'sharesPercentSharesOut': 0.0069999998, 'heldPercentInsiders': 0.00066, 'heldPercentInstitutions': 0.76158994, 'shortRatio': 2.73, 'shortPercentOfFloat': 0.0069999998, 'impliedSharesOutstanding': 7433166379, 'bookValue': 46.204, 'priceToBook': 11.549434, 'lastFiscalYearEnd': 1751241600, 'nextFiscalYearEnd': 1782777600, 'mostRecentQuarter': 1751241600, 'earningsQuarterlyGrowth': 0.236, 'netIncomeToCommon': 101831999488, 'trailingEps': 13.61, 'forwardEps': 14.95, 'lastSplitFactor': '2:1', 'lastSplitDate': 1045526400, 'enterpriseToRevenue': 13.878, 'enterpriseToEbitda': 24.978, '52WeekChange': 0.22743154, 'SandP52WeekChange': 0.16625166, 'lastDividendValue': 0.83, 'lastDividendDate': 1755734400, 'quoteType': 'EQUITY', 'currentPrice': 533.63, 'targetHighPrice': 710.0, 'targetLowPrice': 483.0, 'targetMeanPrice': 620.5881, 'targetMedianPrice': 630.0, 'recommendationMean': 1.25862, 'recommendationKey': 'strong_buy', 'numberOfAnalystOpinions': 52, 'totalCash': 94564999168, 'totalCashPerShare': 12.722, 'ebitda': 156528001024, 'totalDebt': 112184000512, 'quickRatio': 1.223, 'currentRatio': 1.353, 'totalRevenue': 281723994112, 'debtToEquity': 32.661, 'revenuePerShare': 37.902, 'returnOnAssets': 0.14203, 'returnOnEquity': 0.33280998, 'grossProfits': 193893007360, 'freeCashflow': 61070376960, 'operatingCashflow': 136162000896, 'earningsGrowth': 0.237, 'revenueGrowth': 0.181, 'grossMargins': 0.68824, 'ebitdaMargins': 0.55561, 'operatingMargins': 0.44901, 'financialCurrency': 'USD', 'symbol': 'MSFT', 'language': 'en-US', 'region': 'US', 'typeDisp': 'Equity', 'quoteSourceName': 'Nasdaq Real Time Price', 'triggerable': True, 'customPriceAlertConfidence': 'HIGH', 'longName': 'Microsoft Corporation', 'shortName': 'Microsoft Corporation', 'fiftyDayAverageChange': 21.838806, 'fiftyDayAverageChangePercent': 0.04267132, 'twoHundredDayAverageChange': 75.268005, 'twoHundredDayAverageChangePercent': 0.16421083, 'sourceInterval': 15, 'exchangeDataDelayedBy': 0, 'averageAnalystRating': '1.3 - Strong Buy', 'cryptoTradeable': False, 'fiftyTwoWeekLowChange': 188.84, 'fiftyTwoWeekLowChangePercent': 0.5476957, 'fiftyTwoWeekRange': '344.79 - 555.45', 'fiftyTwoWeekHighChange': -21.820007, 'fiftyTwoWeekHighChangePercent': -0.039283477, 'fiftyTwoWeekChangePercent': 22.743153, 'dividendDate': 1765411200, 'earningsTimestamp': 1761768000, 'earningsTimestampStart': 1761768000, 'earningsTimestampEnd': 1761768000, 'earningsCallTimestampStart': 1761773400, 'earningsCallTimestampEnd': 1761773400, 'isEarningsDateEstimate': False, 'epsTrailingTwelveMonths': 13.61, 'epsForward': 14.95, 'epsCurrentYear': 15.52286, 'priceEpsCurrentYear': 34.37704, 'marketState': 'REGULAR', 'hasPrePostMarketData': True, 'firstTradeDateMilliseconds': 511108200000, 'regularMarketChange': 10.02002, 'regularMarketDayRange': '529.01 - 533.7999', 'fullExchangeName': 'NasdaqGS', 'averageDailyVolume3Month': 20255423, 'corporateActions': [], 'regularMarketTime': 1761574409, 'exchange': 'NMS', 'messageBoardId': 'finmb_21835', 'exchangeTimezoneName': 'America/New_York', 'exchangeTimezoneShortName': 'EDT', 'gmtOffSetMilliseconds': -14400000, 'market': 'us_market', 'esgPopulated': False, 'regularMarketChangePercent': 1.9136418, 'regularMarketPrice': 533.63, 'displayName': 'Microsoft', 'trailingPegRatio': 2.2593}\n",
      "GPT: 현재 마이크로소프트(Microsoft Corporation) 1주의 가격은 $533.63입니다. 주식 가격은 시장의 변동에 따라 실시간으로 변경되니 참고하세요. 추가로 궁금한 점이 있으시면 말씀해 주세요!\n",
      "대화를 종료합니다.\n"
     ]
    }
   ],
   "execution_count": 22
  }
 ],
 "metadata": {
  "kernelspec": {
   "display_name": "venv",
   "language": "python",
   "name": "python3"
  },
  "language_info": {
   "codemirror_mode": {
    "name": "ipython",
    "version": 3
   },
   "file_extension": ".py",
   "mimetype": "text/x-python",
   "name": "python",
   "nbconvert_exporter": "python",
   "pygments_lexer": "ipython3",
   "version": "3.12.9"
  }
 },
 "nbformat": 4,
 "nbformat_minor": 2
}
